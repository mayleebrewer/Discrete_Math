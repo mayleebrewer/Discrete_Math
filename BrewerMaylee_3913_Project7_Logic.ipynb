{
  "nbformat": 4,
  "nbformat_minor": 0,
  "metadata": {
    "colab": {
      "provenance": [],
      "authorship_tag": "ABX9TyPkzwe03BrcL9SLX8zbA5UZ",
      "include_colab_link": true
    },
    "kernelspec": {
      "name": "python3",
      "display_name": "Python 3"
    },
    "language_info": {
      "name": "python"
    }
  },
  "cells": [
    {
      "cell_type": "markdown",
      "metadata": {
        "id": "view-in-github",
        "colab_type": "text"
      },
      "source": [
        "<a href=\"https://colab.research.google.com/github/mayleebrewer/Discrete_Math/blob/main/BrewerMaylee_3913_Project7_Logic.ipynb\" target=\"_parent\"><img src=\"https://colab.research.google.com/assets/colab-badge.svg\" alt=\"Open In Colab\"/></a>"
      ]
    },
    {
      "cell_type": "markdown",
      "source": [
        "##Project Part #7 :CPSMA 3133 Discrete Mathematics\n",
        "\n",
        "###Logic\n",
        "\n",
        "Maylee Brewer 262854"
      ],
      "metadata": {
        "id": "sFdZJLEen-sx"
      }
    },
    {
      "cell_type": "markdown",
      "source": [
        "###Truth Tablessss"
      ],
      "metadata": {
        "id": "pQtV6hcjpKnI"
      }
    },
    {
      "cell_type": "markdown",
      "source": [
        "Let,\n",
        "\n",
        "p: \"I will do my project\" \n",
        "\n",
        "q: \"I will do my discussion posts\"\n",
        "\n",
        "r: \"I will pass the class\" \n",
        "\n"
      ],
      "metadata": {
        "id": "J4LYhANSpkCH"
      }
    },
    {
      "cell_type": "code",
      "source": [
        "WillDoMyProject=True\n",
        "WillDoDiscussionPost=True\n",
        "WillPass=True"
      ],
      "metadata": {
        "id": "NI9CyTedrmRH"
      },
      "execution_count": 3,
      "outputs": []
    },
    {
      "cell_type": "markdown",
      "source": [
        "Now I will compute the truth of the statements r ∧ p, r ∨ ¬q, and r ⇒ p."
      ],
      "metadata": {
        "id": "8juET2kSxHbQ"
      }
    },
    {
      "cell_type": "code",
      "source": [
        "#r ∧ p\n",
        "WillPass and WillDoMyProject"
      ],
      "metadata": {
        "colab": {
          "base_uri": "https://localhost:8080/"
        },
        "id": "tfGhnGTVx9kN",
        "outputId": "91a39d8c-55cd-4557-c7ba-f6f843573caa"
      },
      "execution_count": 5,
      "outputs": [
        {
          "output_type": "execute_result",
          "data": {
            "text/plain": [
              "True"
            ]
          },
          "metadata": {},
          "execution_count": 5
        }
      ]
    },
    {
      "cell_type": "code",
      "source": [
        "# r ∨ ¬q\n",
        "WillPass or not(WillDoDiscussionPost)"
      ],
      "metadata": {
        "colab": {
          "base_uri": "https://localhost:8080/"
        },
        "id": "JOzckb0uyrId",
        "outputId": "c13a4d60-9ede-4853-b896-9e0f3c2d56a8"
      },
      "execution_count": 6,
      "outputs": [
        {
          "output_type": "execute_result",
          "data": {
            "text/plain": [
              "True"
            ]
          },
          "metadata": {},
          "execution_count": 6
        }
      ]
    },
    {
      "cell_type": "markdown",
      "source": [
        "Even though, if I didn't do my discussions I might not pass!"
      ],
      "metadata": {
        "id": "e2fZb7hp7IJ_"
      }
    },
    {
      "cell_type": "code",
      "source": [
        "#r ⇒ p\n",
        "def implies(r,p):\n",
        "  return not(r) or p\n",
        "\n",
        "implies(WillPass,WillDoMyProject)"
      ],
      "metadata": {
        "colab": {
          "base_uri": "https://localhost:8080/"
        },
        "id": "nk2ANSTizddK",
        "outputId": "a477cba3-2ce9-4e3d-e55b-a56e68c03d62"
      },
      "execution_count": 13,
      "outputs": [
        {
          "output_type": "execute_result",
          "data": {
            "text/plain": [
              "True"
            ]
          },
          "metadata": {},
          "execution_count": 13
        }
      ]
    },
    {
      "cell_type": "markdown",
      "source": [
        "Like the example project if could not find a good way to do an if then statement. The equivalent $¬r∨p$ seems to have worked well though!  "
      ],
      "metadata": {
        "id": "aDWUeoKk3VkZ"
      }
    },
    {
      "cell_type": "markdown",
      "source": [
        "Now we will move on to the truth table... Oh boy. \n"
      ],
      "metadata": {
        "id": "ko6LgTnA3r5c"
      }
    },
    {
      "cell_type": "code",
      "source": [
        "values = [True,False]\n",
        "table = []\n",
        "\n",
        "for p in values:\n",
        "  for q in values:\n",
        "    for r in values: \n",
        "      row =[]\n",
        "      row.append(p)\n",
        "      row.append(q)\n",
        "      row.append(r)\n",
        "      row.append(not(r))\n",
        "      row.append(not(r) and p)\n",
        "      row.append(p and q)\n",
        "      row.append(implies(not(r) and p,p and q))\n",
        "      table.append(row)"
      ],
      "metadata": {
        "id": "uwxTZ3t935lN"
      },
      "execution_count": 27,
      "outputs": []
    },
    {
      "cell_type": "code",
      "source": [
        "import pandas as pd\n",
        "\n",
        "df = pd.DataFrame(table,columns = ['p','q','r',' ¬r','¬ (r ⊕ p)','p ∨ q','¬ (r ⊕ p) ⇒ (p ∨ q)'] )\n",
        "df"
      ],
      "metadata": {
        "colab": {
          "base_uri": "https://localhost:8080/",
          "height": 300
        },
        "id": "AzJe6ZxU37GG",
        "outputId": "f1210983-3d9d-4b2a-85af-ff8f99600e97"
      },
      "execution_count": 29,
      "outputs": [
        {
          "output_type": "execute_result",
          "data": {
            "text/plain": [
              "       p      q      r     ¬r  ¬ (r ⊕ p)  p ∨ q  ¬ (r ⊕ p) ⇒ (p ∨ q)\n",
              "0   True   True   True  False      False   True                 True\n",
              "1   True   True  False   True       True   True                 True\n",
              "2   True  False   True  False      False  False                 True\n",
              "3   True  False  False   True       True  False                False\n",
              "4  False   True   True  False      False  False                 True\n",
              "5  False   True  False   True      False  False                 True\n",
              "6  False  False   True  False      False  False                 True\n",
              "7  False  False  False   True      False  False                 True"
            ],
            "text/html": [
              "\n",
              "  <div id=\"df-a514040c-7447-4ac4-81e4-1731818950b4\">\n",
              "    <div class=\"colab-df-container\">\n",
              "      <div>\n",
              "<style scoped>\n",
              "    .dataframe tbody tr th:only-of-type {\n",
              "        vertical-align: middle;\n",
              "    }\n",
              "\n",
              "    .dataframe tbody tr th {\n",
              "        vertical-align: top;\n",
              "    }\n",
              "\n",
              "    .dataframe thead th {\n",
              "        text-align: right;\n",
              "    }\n",
              "</style>\n",
              "<table border=\"1\" class=\"dataframe\">\n",
              "  <thead>\n",
              "    <tr style=\"text-align: right;\">\n",
              "      <th></th>\n",
              "      <th>p</th>\n",
              "      <th>q</th>\n",
              "      <th>r</th>\n",
              "      <th>¬r</th>\n",
              "      <th>¬ (r ⊕ p)</th>\n",
              "      <th>p ∨ q</th>\n",
              "      <th>¬ (r ⊕ p) ⇒ (p ∨ q)</th>\n",
              "    </tr>\n",
              "  </thead>\n",
              "  <tbody>\n",
              "    <tr>\n",
              "      <th>0</th>\n",
              "      <td>True</td>\n",
              "      <td>True</td>\n",
              "      <td>True</td>\n",
              "      <td>False</td>\n",
              "      <td>False</td>\n",
              "      <td>True</td>\n",
              "      <td>True</td>\n",
              "    </tr>\n",
              "    <tr>\n",
              "      <th>1</th>\n",
              "      <td>True</td>\n",
              "      <td>True</td>\n",
              "      <td>False</td>\n",
              "      <td>True</td>\n",
              "      <td>True</td>\n",
              "      <td>True</td>\n",
              "      <td>True</td>\n",
              "    </tr>\n",
              "    <tr>\n",
              "      <th>2</th>\n",
              "      <td>True</td>\n",
              "      <td>False</td>\n",
              "      <td>True</td>\n",
              "      <td>False</td>\n",
              "      <td>False</td>\n",
              "      <td>False</td>\n",
              "      <td>True</td>\n",
              "    </tr>\n",
              "    <tr>\n",
              "      <th>3</th>\n",
              "      <td>True</td>\n",
              "      <td>False</td>\n",
              "      <td>False</td>\n",
              "      <td>True</td>\n",
              "      <td>True</td>\n",
              "      <td>False</td>\n",
              "      <td>False</td>\n",
              "    </tr>\n",
              "    <tr>\n",
              "      <th>4</th>\n",
              "      <td>False</td>\n",
              "      <td>True</td>\n",
              "      <td>True</td>\n",
              "      <td>False</td>\n",
              "      <td>False</td>\n",
              "      <td>False</td>\n",
              "      <td>True</td>\n",
              "    </tr>\n",
              "    <tr>\n",
              "      <th>5</th>\n",
              "      <td>False</td>\n",
              "      <td>True</td>\n",
              "      <td>False</td>\n",
              "      <td>True</td>\n",
              "      <td>False</td>\n",
              "      <td>False</td>\n",
              "      <td>True</td>\n",
              "    </tr>\n",
              "    <tr>\n",
              "      <th>6</th>\n",
              "      <td>False</td>\n",
              "      <td>False</td>\n",
              "      <td>True</td>\n",
              "      <td>False</td>\n",
              "      <td>False</td>\n",
              "      <td>False</td>\n",
              "      <td>True</td>\n",
              "    </tr>\n",
              "    <tr>\n",
              "      <th>7</th>\n",
              "      <td>False</td>\n",
              "      <td>False</td>\n",
              "      <td>False</td>\n",
              "      <td>True</td>\n",
              "      <td>False</td>\n",
              "      <td>False</td>\n",
              "      <td>True</td>\n",
              "    </tr>\n",
              "  </tbody>\n",
              "</table>\n",
              "</div>\n",
              "      <button class=\"colab-df-convert\" onclick=\"convertToInteractive('df-a514040c-7447-4ac4-81e4-1731818950b4')\"\n",
              "              title=\"Convert this dataframe to an interactive table.\"\n",
              "              style=\"display:none;\">\n",
              "        \n",
              "  <svg xmlns=\"http://www.w3.org/2000/svg\" height=\"24px\"viewBox=\"0 0 24 24\"\n",
              "       width=\"24px\">\n",
              "    <path d=\"M0 0h24v24H0V0z\" fill=\"none\"/>\n",
              "    <path d=\"M18.56 5.44l.94 2.06.94-2.06 2.06-.94-2.06-.94-.94-2.06-.94 2.06-2.06.94zm-11 1L8.5 8.5l.94-2.06 2.06-.94-2.06-.94L8.5 2.5l-.94 2.06-2.06.94zm10 10l.94 2.06.94-2.06 2.06-.94-2.06-.94-.94-2.06-.94 2.06-2.06.94z\"/><path d=\"M17.41 7.96l-1.37-1.37c-.4-.4-.92-.59-1.43-.59-.52 0-1.04.2-1.43.59L10.3 9.45l-7.72 7.72c-.78.78-.78 2.05 0 2.83L4 21.41c.39.39.9.59 1.41.59.51 0 1.02-.2 1.41-.59l7.78-7.78 2.81-2.81c.8-.78.8-2.07 0-2.86zM5.41 20L4 18.59l7.72-7.72 1.47 1.35L5.41 20z\"/>\n",
              "  </svg>\n",
              "      </button>\n",
              "      \n",
              "  <style>\n",
              "    .colab-df-container {\n",
              "      display:flex;\n",
              "      flex-wrap:wrap;\n",
              "      gap: 12px;\n",
              "    }\n",
              "\n",
              "    .colab-df-convert {\n",
              "      background-color: #E8F0FE;\n",
              "      border: none;\n",
              "      border-radius: 50%;\n",
              "      cursor: pointer;\n",
              "      display: none;\n",
              "      fill: #1967D2;\n",
              "      height: 32px;\n",
              "      padding: 0 0 0 0;\n",
              "      width: 32px;\n",
              "    }\n",
              "\n",
              "    .colab-df-convert:hover {\n",
              "      background-color: #E2EBFA;\n",
              "      box-shadow: 0px 1px 2px rgba(60, 64, 67, 0.3), 0px 1px 3px 1px rgba(60, 64, 67, 0.15);\n",
              "      fill: #174EA6;\n",
              "    }\n",
              "\n",
              "    [theme=dark] .colab-df-convert {\n",
              "      background-color: #3B4455;\n",
              "      fill: #D2E3FC;\n",
              "    }\n",
              "\n",
              "    [theme=dark] .colab-df-convert:hover {\n",
              "      background-color: #434B5C;\n",
              "      box-shadow: 0px 1px 3px 1px rgba(0, 0, 0, 0.15);\n",
              "      filter: drop-shadow(0px 1px 2px rgba(0, 0, 0, 0.3));\n",
              "      fill: #FFFFFF;\n",
              "    }\n",
              "  </style>\n",
              "\n",
              "      <script>\n",
              "        const buttonEl =\n",
              "          document.querySelector('#df-a514040c-7447-4ac4-81e4-1731818950b4 button.colab-df-convert');\n",
              "        buttonEl.style.display =\n",
              "          google.colab.kernel.accessAllowed ? 'block' : 'none';\n",
              "\n",
              "        async function convertToInteractive(key) {\n",
              "          const element = document.querySelector('#df-a514040c-7447-4ac4-81e4-1731818950b4');\n",
              "          const dataTable =\n",
              "            await google.colab.kernel.invokeFunction('convertToInteractive',\n",
              "                                                     [key], {});\n",
              "          if (!dataTable) return;\n",
              "\n",
              "          const docLinkHtml = 'Like what you see? Visit the ' +\n",
              "            '<a target=\"_blank\" href=https://colab.research.google.com/notebooks/data_table.ipynb>data table notebook</a>'\n",
              "            + ' to learn more about interactive tables.';\n",
              "          element.innerHTML = '';\n",
              "          dataTable['output_type'] = 'display_data';\n",
              "          await google.colab.output.renderOutput(dataTable, element);\n",
              "          const docLink = document.createElement('div');\n",
              "          docLink.innerHTML = docLinkHtml;\n",
              "          element.appendChild(docLink);\n",
              "        }\n",
              "      </script>\n",
              "    </div>\n",
              "  </div>\n",
              "  "
            ]
          },
          "metadata": {},
          "execution_count": 29
        }
      ]
    },
    {
      "cell_type": "markdown",
      "source": [
        "I think everything here looks good here too! I finally figured out how to make all of the entries look normal. So for the truth table the final statement would read: If only I don't pass or only don't do my discussions then I will do my project and discussions. I feel like i could've worded it a little better or just picked better propositions but I think it matches up. "
      ],
      "metadata": {
        "id": "xj-vw4do4ns3"
      }
    }
  ]
}