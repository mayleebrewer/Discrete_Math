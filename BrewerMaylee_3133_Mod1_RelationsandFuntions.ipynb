{
  "nbformat": 4,
  "nbformat_minor": 0,
  "metadata": {
    "colab": {
      "provenance": [],
      "include_colab_link": true
    },
    "kernelspec": {
      "name": "python3",
      "display_name": "Python 3"
    }
  },
  "cells": [
    {
      "cell_type": "markdown",
      "metadata": {
        "id": "view-in-github",
        "colab_type": "text"
      },
      "source": [
        "<a href=\"https://colab.research.google.com/github/mayleebrewer/Discrete_Math/blob/main/BrewerMaylee_3133_Mod1_RelationsandFuntions.ipynb\" target=\"_parent\"><img src=\"https://colab.research.google.com/assets/colab-badge.svg\" alt=\"Open In Colab\"/></a>"
      ]
    },
    {
      "cell_type": "markdown",
      "metadata": {
        "id": "YCJaepmmfKrS"
      },
      "source": [
        "# Project Part #2 : CPSMA 3133  Discrete Mathematics \n",
        "\n",
        "## Functions\n",
        "\n",
        "### Maylee Brewer 262854\n",
        "\n",
        "\n"
      ]
    },
    {
      "cell_type": "markdown",
      "metadata": {
        "id": "Xs_Pvtua1Nnt"
      },
      "source": [
        "## 2 Relations and Functions"
      ]
    },
    {
      "cell_type": "markdown",
      "metadata": {
        "id": "2z6U1aB_fQDM"
      },
      "source": [
        "The project this week is over relations and functions! I really liked seeing what sets had different relations! The function I will be using for this project is  $$f(x)=3x^2+5x+4.$$ \n",
        "\n",
        "The features of this function are $3x^2$ which is the parabola and how akinny it is, $5x$ which make the graph move around, and $4$ which is the y-intercept\n",
        "\n",
        "I will be adding a few packages to graph. \n",
        "\n"
      ]
    },
    {
      "cell_type": "code",
      "metadata": {
        "id": "rU_BgC_kfH7g"
      },
      "source": [
        "import numpy as np\n",
        "import matplotlib.pyplot as plt\n",
        "import networkx as nx"
      ],
      "execution_count": 2,
      "outputs": []
    },
    {
      "cell_type": "code",
      "source": [
        "\n",
        "def Mayfunction(x):\n",
        "  return ((3*x**2+5*x+4))\n"
      ],
      "metadata": {
        "id": "M0sWmuXVYMbN"
      },
      "execution_count": 21,
      "outputs": []
    },
    {
      "cell_type": "markdown",
      "source": [
        "Now I will test my function with 0 as my x. "
      ],
      "metadata": {
        "id": "4O_ElYA0Asqi"
      }
    },
    {
      "cell_type": "code",
      "source": [
        "Mayfunction(0)"
      ],
      "metadata": {
        "colab": {
          "base_uri": "https://localhost:8080/"
        },
        "id": "PQFAMIzZdN2Z",
        "outputId": "7a9a15cb-9faf-4db6-cdd4-69e489241d9f"
      },
      "execution_count": 80,
      "outputs": [
        {
          "output_type": "execute_result",
          "data": {
            "text/plain": [
              "4"
            ]
          },
          "metadata": {},
          "execution_count": 80
        }
      ]
    },
    {
      "cell_type": "markdown",
      "source": [
        "It worked! Now on to graphing the function. "
      ],
      "metadata": {
        "id": "WrEVuG0WA2lN"
      }
    },
    {
      "cell_type": "markdown",
      "metadata": {
        "id": "_7RoPTU_hXG1"
      },
      "source": [
        "## Graphing the Function "
      ]
    },
    {
      "cell_type": "markdown",
      "metadata": {
        "id": "MMXFYCZ6hajg"
      },
      "source": [
        "I started out with my range at -15,15 but that was pretty wide and off centered. So, I changed the range to -4,2.5 and this made the graph a little easier to read. I couldn't figure out how to change the Y axis so it looks kind of funky but I guess it adds a challenge for the readers. \n"
      ]
    },
    {
      "cell_type": "code",
      "metadata": {
        "id": "5U5T3Fld5X0S",
        "colab": {
          "base_uri": "https://localhost:8080/",
          "height": 282
        },
        "outputId": "8c571b4b-90e8-4999-8339-f69c4ac57f6c"
      },
      "source": [
        "x = np.arange(-4,2.5,.1)\n",
        "plt.plot(x,Mayfunction(x))"
      ],
      "execution_count": 38,
      "outputs": [
        {
          "output_type": "execute_result",
          "data": {
            "text/plain": [
              "[<matplotlib.lines.Line2D at 0x7f31bbc14d00>]"
            ]
          },
          "metadata": {},
          "execution_count": 38
        },
        {
          "output_type": "display_data",
          "data": {
            "text/plain": [
              "<Figure size 432x288 with 1 Axes>"
            ],
            "image/png": "[encoded data removed]"
          },
          "metadata": {
            "needs_background": "light"
          }
        }
      ]
    },
    {
      "cell_type": "markdown",
      "source": [
        "This function is not one to one because it has more than one. It is also not onto since not all of the y-values go with an x-values. So naturally, it is not bijective either."
      ],
      "metadata": {
        "id": "0gdG8SzdEGFI"
      }
    },
    {
      "cell_type": "markdown",
      "source": [
        "# Dictonary "
      ],
      "metadata": {
        "id": "yOgvjmCIfmw_"
      }
    },
    {
      "cell_type": "markdown",
      "source": [
        "I have never really made a dictonary on python (or anything for that matter) but I tried to follow the example and this is what I came up with. I used a set from my last project and I think it worked!"
      ],
      "metadata": {
        "id": "WhLofsweBqYl"
      }
    },
    {
      "cell_type": "code",
      "source": [
        "N64 =  {'Mario', 'Luigi', 'Boswer', 'Yoshi', 'Wario', 'Toad', 'Princess Peach'}\n",
        "Dictionary = dict({a:b for a,b in zip(N64, N64)})"
      ],
      "metadata": {
        "id": "GZRxYl8YflmQ"
      },
      "execution_count": 75,
      "outputs": []
    },
    {
      "cell_type": "code",
      "source": [
        "Dictionary"
      ],
      "metadata": {
        "colab": {
          "base_uri": "https://localhost:8080/"
        },
        "id": "UhMEdurknj_S",
        "outputId": "60f96376-9458-439c-e9bc-cdd897533d3c"
      },
      "execution_count": 76,
      "outputs": [
        {
          "output_type": "execute_result",
          "data": {
            "text/plain": [
              "{'Yoshi': 'Yoshi',\n",
              " 'Mario': 'Mario',\n",
              " 'Boswer': 'Boswer',\n",
              " 'Toad': 'Toad',\n",
              " 'Princess Peach': 'Princess Peach',\n",
              " 'Wario': 'Wario',\n",
              " 'Luigi': 'Luigi'}"
            ]
          },
          "metadata": {},
          "execution_count": 76
        }
      ]
    },
    {
      "cell_type": "markdown",
      "source": [
        "## Apply dictionary to a small set"
      ],
      "metadata": {
        "id": "BC8h3J-Ln7Tt"
      }
    },
    {
      "cell_type": "markdown",
      "source": [
        "Now this part really confused me. I am not exactly sure what apply it to a small set does but here we go. "
      ],
      "metadata": {
        "id": "4OxgpmnJCMLp"
      }
    },
    {
      "cell_type": "code",
      "source": [
        "dictionary = dict({'Yoshi': 'Yoshi','Mario': 'Mario','Boswer': 'Boswer','Toad': 'Toad','Princess Peach': 'Princess Peach','Wario': 'Wario','Luigi': 'Baby Mario'})"
      ],
      "metadata": {
        "id": "hEhGIdMXoIL0"
      },
      "execution_count": 77,
      "outputs": []
    },
    {
      "cell_type": "code",
      "source": [
        "smallset = [dictionary.get(x,x) for x in N64] "
      ],
      "metadata": {
        "id": "3ZkY8C35pZmq"
      },
      "execution_count": 78,
      "outputs": []
    },
    {
      "cell_type": "code",
      "source": [
        "smallset"
      ],
      "metadata": {
        "colab": {
          "base_uri": "https://localhost:8080/"
        },
        "id": "LYJW4o7f9_JV",
        "outputId": "1c32ca78-0ada-4bbd-85bc-30299f5758c5"
      },
      "execution_count": 79,
      "outputs": [
        {
          "output_type": "execute_result",
          "data": {
            "text/plain": [
              "['Yoshi', 'Mario', 'Boswer', 'Toad', 'Princess Peach', 'Wario', 'Baby Mario']"
            ]
          },
          "metadata": {},
          "execution_count": 79
        }
      ]
    },
    {
      "cell_type": "markdown",
      "source": [
        "As you can see it added baby mario (no idea where that came from) and left out luigi for some reason. Crazy times over here. "
      ],
      "metadata": {
        "id": "IBr6aIqS9lk1"
      }
    },
    {
      "cell_type": "markdown",
      "source": [
        "# Wrap up\n",
        "\n",
        "In conclusion, my orginal dictionary set is reflexive (a,a), symmetric (a,b)(b,a) and transivitve (a,b)(b,c)(a,c)! And so I am left with an equivalence relation. "
      ],
      "metadata": {
        "id": "iRHqG-7GCtTN"
      }
    }
  ]
}