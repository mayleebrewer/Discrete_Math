{
  "nbformat": 4,
  "nbformat_minor": 0,
  "metadata": {
    "colab": {
      "provenance": [],
      "authorship_tag": "ABX9TyNo6W5+yTz8yO6M/Pp4lYva",
      "include_colab_link": true
    },
    "kernelspec": {
      "name": "python3",
      "display_name": "Python 3"
    },
    "language_info": {
      "name": "python"
    }
  },
  "cells": [
    {
      "cell_type": "markdown",
      "metadata": {
        "id": "view-in-github",
        "colab_type": "text"
      },
      "source": [
        "<a href=\"https://colab.research.google.com/github/mayleebrewer/Discrete_Math/blob/main/BrewerMaylee_3913_Lesson6_Numbers.ipynb\" target=\"_parent\"><img src=\"https://colab.research.google.com/assets/colab-badge.svg\" alt=\"Open In Colab\"/></a>"
      ]
    },
    {
      "cell_type": "code",
      "execution_count": null,
      "metadata": {
        "id": "YPpV26TjYdhj"
      },
      "outputs": [],
      "source": []
    },
    {
      "cell_type": "markdown",
      "source": [
        "#Project Part #6: CPSMA 3913 Dr. Lynam's Discrete Mathematics \n",
        "\n",
        "Maylee Brewer 262854"
      ],
      "metadata": {
        "id": "QQenDG-MYpr3"
      }
    },
    {
      "cell_type": "markdown",
      "source": [
        "Numbers "
      ],
      "metadata": {
        "id": "sFzLoRDHZEfi"
      }
    },
    {
      "cell_type": "markdown",
      "source": [
        "#1. Compute using modulo arithmetic\n",
        "\n",
        "a) Convert the number $24036_7$ into base ten\n",
        "\n",
        "\n",
        "I wanted to know what it be in other bases too so I tried in binary but it would not work. It did work for base 8 though. "
      ],
      "metadata": {
        "id": "wxCI2y2AZIYP"
      }
    },
    {
      "cell_type": "code",
      "source": [
        "int('24036',7)"
      ],
      "metadata": {
        "colab": {
          "base_uri": "https://localhost:8080/"
        },
        "id": "7pYQB_XQbQax",
        "outputId": "5491b566-85c5-4de2-fc9c-b864751017c1"
      },
      "execution_count": 7,
      "outputs": [
        {
          "output_type": "execute_result",
          "data": {
            "text/plain": [
              "6201"
            ]
          },
          "metadata": {},
          "execution_count": 7
        }
      ]
    },
    {
      "cell_type": "markdown",
      "source": [
        "b) Convert the hexadecimal $72e3$ into base ten"
      ],
      "metadata": {
        "id": "QmiNWgr7dAx5"
      }
    },
    {
      "cell_type": "code",
      "source": [
        "int('72e3',16)"
      ],
      "metadata": {
        "colab": {
          "base_uri": "https://localhost:8080/"
        },
        "id": "bcw9kqFxdRHP",
        "outputId": "7d94c2dc-347a-4434-a36c-0b0afa677bb6"
      },
      "execution_count": 10,
      "outputs": [
        {
          "output_type": "execute_result",
          "data": {
            "text/plain": [
              "29411"
            ]
          },
          "metadata": {},
          "execution_count": 10
        }
      ]
    },
    {
      "cell_type": "markdown",
      "source": [
        "c) Convert 3735928559 into hexadecimal"
      ],
      "metadata": {
        "id": "W8mb9aKgasHb"
      }
    },
    {
      "cell_type": "code",
      "source": [
        "hex(3735928559)"
      ],
      "metadata": {
        "colab": {
          "base_uri": "https://localhost:8080/",
          "height": 36
        },
        "id": "6G6UFKi3bCHw",
        "outputId": "d8bef129-3b6f-4d58-f4f5-84efad496911"
      },
      "execution_count": 2,
      "outputs": [
        {
          "output_type": "execute_result",
          "data": {
            "text/plain": [
              "'0xdeadbeef'"
            ],
            "application/vnd.google.colaboratory.intrinsic+json": {
              "type": "string"
            }
          },
          "metadata": {},
          "execution_count": 2
        }
      ]
    },
    {
      "cell_type": "markdown",
      "source": [
        "Dead beef? Okay..."
      ],
      "metadata": {
        "id": "_siyikEKbOYv"
      }
    },
    {
      "cell_type": "markdown",
      "source": [
        "d) Using the two's complement preform the base ten subtraction $25-37$\n",
        "\n",
        "All right let's convert these to binary"
      ],
      "metadata": {
        "id": "KDsVkQw5dRqQ"
      }
    },
    {
      "cell_type": "code",
      "source": [
        "bin(25)"
      ],
      "metadata": {
        "colab": {
          "base_uri": "https://localhost:8080/",
          "height": 36
        },
        "id": "S_To_xq9ePKj",
        "outputId": "ccf09a57-b2f7-4107-aa13-936dc6fa3425"
      },
      "execution_count": 4,
      "outputs": [
        {
          "output_type": "execute_result",
          "data": {
            "text/plain": [
              "'0b11001'"
            ],
            "application/vnd.google.colaboratory.intrinsic+json": {
              "type": "string"
            }
          },
          "metadata": {},
          "execution_count": 4
        }
      ]
    },
    {
      "cell_type": "code",
      "source": [
        "bin(37)"
      ],
      "metadata": {
        "colab": {
          "base_uri": "https://localhost:8080/",
          "height": 36
        },
        "id": "hOBhH_NheRGx",
        "outputId": "6ac406f0-1c38-46cf-89dc-b9a512503aa0"
      },
      "execution_count": 7,
      "outputs": [
        {
          "output_type": "execute_result",
          "data": {
            "text/plain": [
              "'0b100101'"
            ],
            "application/vnd.google.colaboratory.intrinsic+json": {
              "type": "string"
            }
          },
          "metadata": {},
          "execution_count": 7
        }
      ]
    },
    {
      "cell_type": "markdown",
      "source": [
        "So since 37 is negitive we have to add one to the reverse. Then we would get 011010+1=101101. Now for some code"
      ],
      "metadata": {
        "id": "alkKuaRWeYt7"
      }
    },
    {
      "cell_type": "code",
      "source": [
        "from math import floor\n",
        "def binaryconvertor(x):\n",
        "  ans = ''\n",
        "  while x != 0:\n",
        "    ans = str(x%2) + ans\n",
        "    x = floor(x/2)\n",
        "  return ans\n",
        "binaryconvertor(25)"
      ],
      "metadata": {
        "colab": {
          "base_uri": "https://localhost:8080/",
          "height": 36
        },
        "id": "PP9GsU6AhYeF",
        "outputId": "f8107e1f-4d87-4b92-875d-61a2d4b627ef"
      },
      "execution_count": 13,
      "outputs": [
        {
          "output_type": "execute_result",
          "data": {
            "text/plain": [
              "'11001'"
            ],
            "application/vnd.google.colaboratory.intrinsic+json": {
              "type": "string"
            }
          },
          "metadata": {},
          "execution_count": 13
        }
      ]
    },
    {
      "cell_type": "code",
      "source": [
        "def binaryconvertor(x):\n",
        "  ans = ''\n",
        "  if x<0:\n",
        "    x = abs(x)\n",
        "    ans = 'neg'\n",
        "  while x != 0:\n",
        "    ans = str(x%2) + ans\n",
        "    x = floor(x/2)\n",
        "  return ans\n",
        "binaryconvertor(-37)"
      ],
      "metadata": {
        "colab": {
          "base_uri": "https://localhost:8080/",
          "height": 36
        },
        "id": "xVfTwpIEhgTp",
        "outputId": "5b5190f5-8061-4b19-8427-5743f4e178c2"
      },
      "execution_count": 16,
      "outputs": [
        {
          "output_type": "execute_result",
          "data": {
            "text/plain": [
              "'100101neg'"
            ],
            "application/vnd.google.colaboratory.intrinsic+json": {
              "type": "string"
            }
          },
          "metadata": {},
          "execution_count": 16
        }
      ]
    },
    {
      "cell_type": "code",
      "source": [
        "def addone(list7binary):\n",
        "  counter = 7\n",
        "  list7binary[counter] = str(1 + int(list7binary[counter]))\n",
        "  while list7binary[counter]=='2':\n",
        "    list7binary[counter] = '0'\n",
        "    counter -= 1\n",
        "    list7binary[counter] = str(1 + int(list7binary[counter]))\n",
        "  return list7binary\n",
        "\n",
        "addone(['0','1','1','1','1','1','1','1'])"
      ],
      "metadata": {
        "colab": {
          "base_uri": "https://localhost:8080/"
        },
        "id": "PjtAnpBgjRcw",
        "outputId": "9c1afc9f-8fd6-486d-f0f2-86f32a4badf0"
      },
      "execution_count": 17,
      "outputs": [
        {
          "output_type": "execute_result",
          "data": {
            "text/plain": [
              "['1', '0', '0', '0', '0', '0', '0', '0']"
            ]
          },
          "metadata": {},
          "execution_count": 17
        }
      ]
    },
    {
      "cell_type": "markdown",
      "source": [
        "Now we'll do the reverse. "
      ],
      "metadata": {
        "id": "AtltWflVjXdM"
      }
    },
    {
      "cell_type": "code",
      "source": [
        "def flipit(list7binary):\n",
        "  newlist = []\n",
        "  for i in list7binary:\n",
        "    if i == '0':\n",
        "      newlist.append('1')\n",
        "    else:\n",
        "      newlist.append('0')\n",
        "  return newlist\n",
        "\n",
        "flipit(['0','1','1','1','1','1','1','1'])"
      ],
      "metadata": {
        "colab": {
          "base_uri": "https://localhost:8080/"
        },
        "id": "55V9rfaEjin4",
        "outputId": "b4d91214-22ca-4f89-d039-da0371d0474f"
      },
      "execution_count": 18,
      "outputs": [
        {
          "output_type": "execute_result",
          "data": {
            "text/plain": [
              "['1', '0', '0', '0', '0', '0', '0', '0']"
            ]
          },
          "metadata": {},
          "execution_count": 18
        }
      ]
    },
    {
      "cell_type": "code",
      "source": [
        "\n",
        "def twoscomplement(x):\n",
        "  if not (x>-128)&(x<127):\n",
        "    return \"No Two's Complement\"\n",
        "  ans = '00000000'\n",
        "  ans = list(ans) #strings don't allow you to change them in place (immutable) but lists can be!\n",
        "  counter = 7\n",
        "  if x>=0:\n",
        "    while x != 0:\n",
        "      ans[counter] = str(x%2)\n",
        "      x = floor(x/2)\n",
        "      counter -= 1\n",
        "  if x<0:\n",
        "    x = abs(x)\n",
        "    while x != 0:\n",
        "      ans[counter] = str(x%2)\n",
        "      x = floor(x/2)\n",
        "      counter -= 1\n",
        "    ans = flipit(ans)\n",
        "    addone(ans)        \n",
        "  ans = ''.join(ans)\n",
        "  return ans\n"
      ],
      "metadata": {
        "id": "2cGI_VkDjtUe"
      },
      "execution_count": 20,
      "outputs": []
    },
    {
      "cell_type": "code",
      "source": [
        "twoscomplement(-37)"
      ],
      "metadata": {
        "colab": {
          "base_uri": "https://localhost:8080/",
          "height": 36
        },
        "id": "hNEV9sLkjo-H",
        "outputId": "b636379e-ff2c-4228-dd42-c3a4accb4058"
      },
      "execution_count": 21,
      "outputs": [
        {
          "output_type": "execute_result",
          "data": {
            "text/plain": [
              "'11011011'"
            ],
            "application/vnd.google.colaboratory.intrinsic+json": {
              "type": "string"
            }
          },
          "metadata": {},
          "execution_count": 21
        }
      ]
    },
    {
      "cell_type": "markdown",
      "source": [
        "Now we have $11001+11011011= 1110100$,and I know that 25-37 is -12 so I will test it and make sure "
      ],
      "metadata": {
        "id": "gOlbK7SXnP5O"
      }
    },
    {
      "cell_type": "code",
      "source": [
        "twoscomplement(-12)"
      ],
      "metadata": {
        "colab": {
          "base_uri": "https://localhost:8080/",
          "height": 36
        },
        "id": "eyR8p7jHj_NA",
        "outputId": "01be3d76-ba48-4c2a-fd89-c7d324cabec7"
      },
      "execution_count": 26,
      "outputs": [
        {
          "output_type": "execute_result",
          "data": {
            "text/plain": [
              "'11110100'"
            ],
            "application/vnd.google.colaboratory.intrinsic+json": {
              "type": "string"
            }
          },
          "metadata": {},
          "execution_count": 26
        }
      ]
    },
    {
      "cell_type": "markdown",
      "source": [
        "I think it worked!\n",
        "\n",
        "I think that these different bases are important to computers because in binary you only have two options and that helps computers to be faster but in hexadecimal it can condense big numbers by throwing some letters in. \n",
        "\n"
      ],
      "metadata": {
        "id": "n8LpCLG5kvuX"
      }
    }
  ]
}